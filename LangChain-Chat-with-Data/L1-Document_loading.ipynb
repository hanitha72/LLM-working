{
 "cells": [
  {
   "cell_type": "markdown",
   "id": "adf0e2f4",
   "metadata": {},
   "source": [
    "# Document Loading"
   ]
  },
  {
   "cell_type": "markdown",
   "id": "a3d1f5a4",
   "metadata": {},
   "source": [
    "## Note to students.\n",
    "During periods of high load you may find the notebook unresponsive. It may appear to execute a cell, update the completion number in brackets [#] at the left of the cell but you may find the cell has not executed. This is particularly obvious on print statements when there is no output. If this happens, restart the kernel using the command under the Kernel tab."
   ]
  },
  {
   "cell_type": "markdown",
   "id": "3038ef6a",
   "metadata": {},
   "source": [
    "## Retrieval augmented generation\n",
    "In retrieval augmented generation (RAG), an LLM retrieves contextual documents from an external dataset as part of its execution.\n",
    "\n",
    "This is useful if we want to ask question about specific documents (e.g., our PDFs, a set of videos, etc)."
   ]
  },
  {
   "cell_type": "code",
   "execution_count": null,
   "id": "41284636",
   "metadata": {},
   "outputs": [],
   "source": [
    "# ! pip install langchain"
   ]
  },
  {
   "cell_type": "code",
   "execution_count": 1,
   "id": "9d79bb8f",
   "metadata": {},
   "outputs": [
    {
     "name": "stdout",
     "output_type": "stream",
     "text": [
      "3.10.9 (main, Mar  1 2023, 12:20:14) [Clang 14.0.6 ]\n"
     ]
    }
   ],
   "source": [
    "import sys\n",
    "print(sys.version)"
   ]
  },
  {
   "cell_type": "code",
   "execution_count": 2,
   "id": "9e0196b4",
   "metadata": {},
   "outputs": [
    {
     "name": "stderr",
     "output_type": "stream",
     "text": [
      "/Users/hanithavarsini/anaconda3/lib/python3.10/site-packages/requests/__init__.py:109: RequestsDependencyWarning: urllib3 (2.2.1) or chardet (4.0.0)/charset_normalizer (2.0.4) doesn't match a supported version!\n",
      "  warnings.warn(\n"
     ]
    }
   ],
   "source": [
    "import os\n",
    "import openai\n",
    "import sys\n",
    "sys.path.append('../..')\n",
    "openai.api_key  = 'sk-*****************'\n",
    "\n",
    "# from dotenv import load_dotenv, find_dotenv\n",
    "# _ = load_dotenv(find_dotenv()) # read local .env file\n",
    "\n",
    "# openai.api_key  = os.environ['OPENAI_API_KEY']"
   ]
  },
  {
   "cell_type": "markdown",
   "id": "dd8c5b67",
   "metadata": {},
   "source": [
    "## PDFs\n",
    "Let's load a PDF [transcript](https://see.stanford.edu/materials/aimlcs229/transcripts/MachineLearning-Lecture01.pdf) from Andrew Ng's famous CS229 course! These documents are the result of automated transcription so words and sentences are sometimes split unexpectedly."
   ]
  },
  {
   "cell_type": "code",
   "execution_count": null,
   "id": "e21479aa",
   "metadata": {},
   "outputs": [],
   "source": [
    "# The course will show the pip installs you would need to install packages on your own machine.\n",
    "# These packages are already installed on this platform and should not be run again.\n",
    "# ! pip install pypdf "
   ]
  },
  {
   "cell_type": "code",
   "execution_count": 9,
   "id": "ee9b9f2e",
   "metadata": {},
   "outputs": [
    {
     "name": "stdout",
     "output_type": "stream",
     "text": [
      "Collecting pdfminer.six\n",
      "  Downloading pdfminer.six-20231228-py3-none-any.whl.metadata (4.2 kB)\n",
      "Requirement already satisfied: charset-normalizer>=2.0.0 in /Users/hanithavarsini/.pyenv/versions/3.10.13/lib/python3.10/site-packages (from pdfminer.six) (3.3.2)\n",
      "Collecting cryptography>=36.0.0 (from pdfminer.six)\n",
      "  Downloading cryptography-42.0.4-cp39-abi3-macosx_10_12_universal2.whl.metadata (5.3 kB)\n",
      "Requirement already satisfied: cffi>=1.12 in /Users/hanithavarsini/.pyenv/versions/3.10.13/lib/python3.10/site-packages (from cryptography>=36.0.0->pdfminer.six) (1.16.0)\n",
      "Requirement already satisfied: pycparser in /Users/hanithavarsini/.pyenv/versions/3.10.13/lib/python3.10/site-packages (from cffi>=1.12->cryptography>=36.0.0->pdfminer.six) (2.21)\n",
      "Downloading pdfminer.six-20231228-py3-none-any.whl (5.6 MB)\n",
      "\u001b[2K   \u001b[90m━━━━━━━━━━━━━━━━━━━━━━━━━━━━━━━━━━━━━━━━\u001b[0m \u001b[32m5.6/5.6 MB\u001b[0m \u001b[31m10.5 MB/s\u001b[0m eta \u001b[36m0:00:00\u001b[0m00:01\u001b[0m00:01\u001b[0m\n",
      "\u001b[?25hDownloading cryptography-42.0.4-cp39-abi3-macosx_10_12_universal2.whl (5.9 MB)\n",
      "\u001b[2K   \u001b[90m━━━━━━━━━━━━━━━━━━━━━━━━━━━━━━━━━━━━━━━━\u001b[0m \u001b[32m5.9/5.9 MB\u001b[0m \u001b[31m13.1 MB/s\u001b[0m eta \u001b[36m0:00:00\u001b[0m00:01\u001b[0m00:01\u001b[0m\n",
      "\u001b[?25hInstalling collected packages: cryptography, pdfminer.six\n",
      "Successfully installed cryptography-42.0.4 pdfminer.six-20231228\n"
     ]
    }
   ],
   "source": [
    "!python3.10 -m pip install pdfminer.six\n"
   ]
  },
  {
   "cell_type": "code",
   "execution_count": 2,
   "id": "4400f182",
   "metadata": {},
   "outputs": [],
   "source": [
    "from langchain.document_loaders import PyPDFLoader"
   ]
  },
  {
   "cell_type": "code",
   "execution_count": 5,
   "id": "83ad7591",
   "metadata": {},
   "outputs": [
    {
     "name": "stdout",
     "output_type": "stream",
     "text": [
      "Package                       Version\r\n",
      "----------------------------- ---------------\r\n",
      "absl-py                       1.4.0\r\n",
      "aiohttp                       3.8.4\r\n",
      "aiosignal                     1.3.1\r\n",
      "alabaster                     0.7.12\r\n",
      "altair                        5.1.1\r\n",
      "anaconda-client               1.11.2\r\n",
      "anaconda-navigator            2.4.0\r\n",
      "anaconda-project              0.11.1\r\n",
      "annotated-types               0.6.0\r\n",
      "anyio                         3.5.0\r\n",
      "appdirs                       1.4.4\r\n",
      "applaunchservices             0.3.0\r\n",
      "appnope                       0.1.2\r\n",
      "appscript                     1.1.2\r\n",
      "argon2-cffi                   21.3.0\r\n",
      "argon2-cffi-bindings          21.2.0\r\n",
      "arrow                         1.2.3\r\n",
      "astroid                       2.14.2\r\n",
      "astropy                       5.1\r\n",
      "asttokens                     2.0.5\r\n",
      "astunparse                    1.6.3\r\n",
      "async-timeout                 4.0.2\r\n",
      "atomicwrites                  1.4.0\r\n",
      "attrs                         22.1.0\r\n",
      "Automat                       20.2.0\r\n",
      "autopep8                      1.6.0\r\n",
      "Babel                         2.11.0\r\n",
      "backcall                      0.2.0\r\n",
      "backports.functools-lru-cache 1.6.4\r\n",
      "backports.tempfile            1.0\r\n",
      "backports.weakref             1.0.post1\r\n",
      "bcrypt                        3.2.0\r\n",
      "beautifulsoup4                4.11.1\r\n",
      "binaryornot                   0.4.4\r\n",
      "black                         22.6.0\r\n",
      "bleach                        4.1.0\r\n",
      "blinker                       1.6.2\r\n",
      "bokeh                         2.4.3\r\n",
      "boltons                       23.0.0\r\n",
      "Bottleneck                    1.3.5\r\n",
      "brotlipy                      0.7.0\r\n",
      "build                         0.10.0\r\n",
      "CacheControl                  0.12.11\r\n",
      "cachetools                    5.3.0\r\n",
      "cachy                         0.3.0\r\n",
      "certifi                       2022.12.7\r\n",
      "cffi                          1.15.1\r\n",
      "chardet                       4.0.0\r\n",
      "charset-normalizer            2.0.4\r\n",
      "cleo                          2.0.1\r\n",
      "click                         8.0.4\r\n",
      "clikit                        0.6.2\r\n",
      "cloudpickle                   2.0.0\r\n",
      "clyent                        1.2.2\r\n",
      "colorama                      0.4.6\r\n",
      "colorcet                      3.0.1\r\n",
      "comm                          0.1.2\r\n",
      "conda                         23.3.1\r\n",
      "conda-build                   3.24.0\r\n",
      "conda-content-trust           0.1.3\r\n",
      "conda-pack                    0.6.0\r\n",
      "conda-package-handling        2.0.2\r\n",
      "conda_package_streaming       0.7.0\r\n",
      "conda-repo-cli                1.0.41\r\n",
      "conda-token                   0.4.0\r\n",
      "conda-verify                  3.4.2\r\n",
      "constantly                    15.1.0\r\n",
      "contourpy                     1.0.5\r\n",
      "cookiecutter                  1.7.3\r\n",
      "crashtest                     0.4.1\r\n",
      "cryptography                  39.0.1\r\n",
      "cssselect                     1.1.0\r\n",
      "cycler                        0.11.0\r\n",
      "cytoolz                       0.12.0\r\n",
      "dask                          2022.7.0\r\n",
      "dask-glm                      0.2.0\r\n",
      "dask-labextension             6.1.0\r\n",
      "dask-ml                       2023.3.24\r\n",
      "dask-xgboost                  0.1.11\r\n",
      "dataclasses-json              0.6.4\r\n",
      "datashader                    0.14.4\r\n",
      "datashape                     0.5.4\r\n",
      "debugpy                       1.5.1\r\n",
      "decorator                     5.1.1\r\n",
      "defusedxml                    0.7.1\r\n",
      "diff-match-patch              20200713\r\n",
      "dill                          0.3.6\r\n",
      "distlib                       0.3.6\r\n",
      "distributed                   2022.7.0\r\n",
      "docarray                      0.40.0\r\n",
      "docstring-to-markdown         0.11\r\n",
      "docutils                      0.18.1\r\n",
      "dulwich                       0.21.5\r\n",
      "EasyProcess                   1.1\r\n",
      "entrypoint2                   1.1\r\n",
      "entrypoints                   0.4\r\n",
      "et-xmlfile                    1.1.0\r\n",
      "executing                     0.8.3\r\n",
      "Faker                         19.3.1\r\n",
      "fastjsonschema                2.16.2\r\n",
      "filelock                      3.9.0\r\n",
      "flake8                        6.0.0\r\n",
      "Flask                         2.2.2\r\n",
      "flatbuffers                   23.3.3\r\n",
      "flit_core                     3.6.0\r\n",
      "fonttools                     4.25.0\r\n",
      "frozendict                    2.3.4\r\n",
      "frozenlist                    1.3.3\r\n",
      "fsspec                        2022.11.0\r\n",
      "future                        0.18.3\r\n",
      "gast                          0.4.0\r\n",
      "gensim                        4.3.0\r\n",
      "gitdb                         4.0.10\r\n",
      "GitPython                     3.1.36\r\n",
      "glob2                         0.7\r\n",
      "gmpy2                         2.1.2\r\n",
      "google-auth                   2.17.3\r\n",
      "google-auth-oauthlib          1.0.0\r\n",
      "google-pasta                  0.2.0\r\n",
      "greenlet                      2.0.1\r\n",
      "grpcio                        1.54.0\r\n",
      "h3                            3.7.6\r\n",
      "h5py                          3.6.0\r\n",
      "HeapDict                      1.0.1\r\n",
      "holoviews                     1.15.4\r\n",
      "html5lib                      1.1\r\n",
      "huggingface-hub               0.10.1\r\n",
      "hvplot                        0.8.2\r\n",
      "hyperlink                     21.0.0\r\n",
      "idna                          3.4\r\n",
      "imagecodecs                   2021.8.26\r\n",
      "imageio                       2.26.0\r\n",
      "imagesize                     1.4.1\r\n",
      "imbalanced-learn              0.10.1\r\n",
      "importlib-metadata            6.6.0\r\n",
      "imutils                       0.5.4\r\n",
      "incremental                   21.3.0\r\n",
      "inflection                    0.5.1\r\n",
      "iniconfig                     1.1.1\r\n",
      "installer                     0.7.0\r\n",
      "intake                        0.6.7\r\n",
      "intervaltree                  3.1.0\r\n",
      "ipykernel                     6.19.2\r\n",
      "ipython                       8.10.0\r\n",
      "ipython-genutils              0.2.0\r\n",
      "isort                         5.9.3\r\n",
      "itemadapter                   0.3.0\r\n",
      "itemloaders                   1.0.4\r\n",
      "itsdangerous                  2.0.1\r\n",
      "jaraco.classes                3.2.3\r\n",
      "jax                           0.4.8\r\n",
      "jedi                          0.18.1\r\n",
      "jellyfish                     0.9.0\r\n",
      "Jinja2                        3.1.2\r\n",
      "jinja2-time                   0.2.0\r\n",
      "jmespath                      0.10.0\r\n",
      "joblib                        1.1.1\r\n",
      "json5                         0.9.6\r\n",
      "jsonpatch                     1.33\r\n",
      "jsonpointer                   2.1\r\n",
      "jsonschema                    4.17.3\r\n",
      "jupyter_client                7.3.4\r\n",
      "jupyter_core                  5.2.0\r\n",
      "jupyter-server                1.23.4\r\n",
      "jupyter_server_proxy          4.0.0\r\n",
      "jupyterlab                    3.5.3\r\n",
      "jupyterlab-pygments           0.1.2\r\n",
      "jupyterlab_server             2.19.0\r\n",
      "keras                         2.13.1\r\n",
      "keyring                       23.13.1\r\n",
      "kiwisolver                    1.4.4\r\n",
      "langchain                     0.1.8\r\n",
      "langchain-community           0.0.21\r\n",
      "langchain-core                0.1.24\r\n",
      "langsmith                     0.1.3\r\n",
      "lazy-object-proxy             1.6.0\r\n",
      "libarchive-c                  2.9\r\n",
      "libclang                      16.0.0\r\n",
      "llvmlite                      0.39.1\r\n",
      "locket                        1.0.0\r\n",
      "lockfile                      0.12.2\r\n",
      "lxml                          4.9.1\r\n",
      "lz4                           3.1.3\r\n",
      "Markdown                      3.4.1\r\n",
      "markdown-it-py                3.0.0\r\n",
      "MarkupSafe                    2.1.1\r\n",
      "marshmallow                   3.20.2\r\n",
      "matplotlib                    3.7.1\r\n",
      "matplotlib-inline             0.1.6\r\n",
      "mccabe                        0.7.0\r\n",
      "mdurl                         0.1.2\r\n",
      "mistune                       0.8.4\r\n",
      "ml-dtypes                     0.1.0\r\n",
      "mock                          4.0.3\r\n",
      "more-itertools                9.1.0\r\n",
      "MouseInfo                     0.1.3\r\n",
      "mpmath                        1.2.1\r\n",
      "msgpack                       1.0.3\r\n",
      "mss                           9.0.1\r\n",
      "multidict                     6.0.4\r\n",
      "multipledispatch              0.6.0\r\n",
      "munkres                       1.1.4\r\n",
      "mypy-extensions               0.4.3\r\n",
      "navigator-updater             0.3.0\r\n",
      "nbclassic                     0.5.2\r\n",
      "nbclient                      0.5.13\r\n",
      "nbconvert                     6.5.4\r\n",
      "nbformat                      5.7.0\r\n",
      "nest-asyncio                  1.5.6\r\n",
      "networkx                      2.8.4\r\n",
      "nltk                          3.7\r\n",
      "notebook                      6.5.2\r\n",
      "notebook_shim                 0.2.2\r\n",
      "numba                         0.56.4\r\n",
      "numexpr                       2.8.4\r\n",
      "numpy                         1.23.5\r\n",
      "numpydoc                      1.5.0\r\n",
      "oauthlib                      3.2.2\r\n",
      "openai                        0.27.8\r\n",
      "opencv-contrib-python         4.8.0.76\r\n",
      "openpyxl                      3.0.10\r\n",
      "opt-einsum                    3.3.0\r\n",
      "orjson                        3.9.14\r\n",
      "packaging                     23.2\r\n",
      "pandas                        2.0.1\r\n",
      "pandocfilters                 1.5.0\r\n",
      "panel                         0.14.3\r\n",
      "param                         1.12.3\r\n",
      "parsel                        1.6.0\r\n",
      "parso                         0.8.3\r\n",
      "partd                         1.2.0\r\n",
      "pastel                        0.2.1\r\n",
      "pathlib                       1.0.1\r\n",
      "pathspec                      0.10.3\r\n",
      "patsy                         0.5.3\r\n",
      "pep8                          1.7.1\r\n",
      "pexpect                       4.8.0\r\n",
      "pickleshare                   0.7.5\r\n",
      "Pillow                        9.4.0\r\n",
      "pip                           22.3.1\r\n",
      "pkginfo                       1.9.6\r\n",
      "platformdirs                  2.5.2\r\n",
      "plotly                        5.14.1\r\n",
      "pluggy                        1.0.0\r\n",
      "ply                           3.11\r\n",
      "poetry                        1.4.2\r\n",
      "poetry-core                   1.5.2\r\n",
      "poetry-plugin-export          1.3.1\r\n",
      "pooch                         1.4.0\r\n",
      "poyo                          0.5.0\r\n",
      "prometheus-client             0.14.1\r\n",
      "prompt-toolkit                3.0.36\r\n",
      "Protego                       0.1.16\r\n",
      "protobuf                      4.22.3\r\n",
      "psutil                        5.9.0\r\n",
      "ptyprocess                    0.7.0\r\n",
      "pure-eval                     0.2.2\r\n",
      "py                            1.11.0\r\n",
      "py4j                          0.10.9.7\r\n",
      "pyarrow                       13.0.0\r\n",
      "pyasn1                        0.4.8\r\n",
      "pyasn1-modules                0.2.8\r\n",
      "PyAutoGUI                     0.9.54\r\n",
      "pycodestyle                   2.10.0\r\n",
      "pycosat                       0.6.4\r\n",
      "pycparser                     2.21\r\n",
      "pyct                          0.5.0\r\n",
      "pycurl                        7.45.1\r\n",
      "pydantic                      2.6.1\r\n",
      "pydantic_core                 2.16.2\r\n",
      "pydeck                        0.8.0\r\n",
      "PyDispatcher                  2.0.5\r\n",
      "pydocstyle                    6.3.0\r\n",
      "pyerfa                        2.0.0\r\n",
      "pyflakes                      3.0.1\r\n",
      "PyGetWindow                   0.0.9\r\n",
      "Pygments                      2.16.1\r\n",
      "PyHamcrest                    2.0.2\r\n",
      "PyJWT                         2.4.0\r\n",
      "pylev                         1.4.0\r\n",
      "pylint                        2.16.2\r\n",
      "pylint-venv                   2.3.0\r\n",
      "pyls-spyder                   0.4.0\r\n",
      "Pympler                       1.0.1\r\n",
      "PyMsgBox                      1.0.9\r\n",
      "pyobjc-core                   9.2\r\n",
      "pyobjc-framework-Cocoa        9.2\r\n",
      "pyobjc-framework-CoreServices 9.0\r\n",
      "pyobjc-framework-FSEvents     9.0\r\n",
      "pyobjc-framework-Quartz       9.2\r\n",
      "pyodbc                        4.0.34\r\n",
      "pyOpenSSL                     23.0.0\r\n",
      "pyparsing                     3.0.9\r\n",
      "pyperclip                     1.8.2\r\n",
      "pyproject_hooks               1.0.0\r\n",
      "PyQt5-sip                     12.11.0\r\n",
      "PyRect                        0.2.0\r\n",
      "pyrsistent                    0.18.0\r\n",
      "pyscreenshot                  3.1\r\n",
      "PyScreeze                     0.1.29\r\n",
      "PySocks                       1.7.1\r\n",
      "pyspark                       3.5.0\r\n",
      "pytesseract                   0.3.10\r\n",
      "pytest                        7.1.2\r\n",
      "python-dateutil               2.8.2\r\n",
      "python-lsp-black              1.2.1\r\n",
      "python-lsp-jsonrpc            1.0.0\r\n",
      "python-lsp-server             1.7.1\r\n",
      "python-slugify                5.0.2\r\n",
      "python-snappy                 0.6.1\r\n",
      "pytoolconfig                  1.2.5\r\n",
      "pytweening                    1.0.7\r\n",
      "pytz                          2022.7\r\n",
      "pytz-deprecation-shim         0.1.0.post0\r\n",
      "pyviz-comms                   2.0.2\r\n",
      "PyWavelets                    1.4.1\r\n",
      "PyYAML                        6.0\r\n",
      "pyzmq                         23.2.0\r\n",
      "QDarkStyle                    3.0.2\r\n",
      "qstylizer                     0.2.2\r\n",
      "QtAwesome                     1.2.2\r\n",
      "qtconsole                     5.4.0\r\n",
      "QtPy                          2.2.0\r\n",
      "queuelib                      1.5.0\r\n",
      "rapidfuzz                     2.15.1\r\n",
      "regex                         2022.7.9\r\n",
      "requests                      2.28.1\r\n",
      "requests-file                 1.5.1\r\n",
      "requests-oauthlib             1.3.1\r\n",
      "requests-toolbelt             0.9.1\r\n",
      "rich                          13.5.3\r\n",
      "rope                          1.7.0\r\n",
      "rsa                           4.9\r\n",
      "Rtree                         1.0.1\r\n",
      "ruamel.yaml                   0.17.21\r\n",
      "ruamel.yaml.clib              0.2.6\r\n",
      "ruamel-yaml-conda             0.17.21\r\n",
      "rubicon-objc                  0.4.6\r\n",
      "scikit-image                  0.19.3\r\n",
      "scikit-learn                  1.2.1\r\n",
      "scipy                         1.10.1\r\n",
      "Scrapy                        2.8.0\r\n",
      "seaborn                       0.12.2\r\n",
      "Send2Trash                    1.8.0\r\n",
      "service-identity              18.1.0\r\n",
      "setuptools                    65.6.3\r\n",
      "shellingham                   1.5.0.post1\r\n",
      "simpervisor                   1.0.0\r\n",
      "sip                           6.6.2\r\n",
      "six                           1.16.0\r\n",
      "smart-open                    5.2.1\r\n",
      "smmap                         5.0.1\r\n",
      "sniffio                       1.2.0\r\n",
      "snowballstemmer               2.2.0\r\n",
      "sortedcontainers              2.4.0\r\n",
      "soupsieve                     2.3.2.post1\r\n",
      "Sphinx                        5.0.2\r\n",
      "sphinxcontrib-applehelp       1.0.2\r\n",
      "sphinxcontrib-devhelp         1.0.2\r\n",
      "sphinxcontrib-htmlhelp        2.0.0\r\n",
      "sphinxcontrib-jsmath          1.0.1\r\n",
      "sphinxcontrib-qthelp          1.0.3\r\n",
      "sphinxcontrib-serializinghtml 1.1.5\r\n",
      "spyder                        5.4.1\r\n",
      "spyder-kernels                2.4.1\r\n",
      "SQLAlchemy                    1.4.39\r\n",
      "stack-data                    0.2.0\r\n",
      "statsmodels                   0.13.5\r\n",
      "streamlit                     1.26.0\r\n",
      "sympy                         1.11.1\r\n",
      "tables                        3.7.0\r\n",
      "tabulate                      0.8.10\r\n",
      "TBB                           0.2\r\n",
      "tblib                         1.7.0\r\n",
      "tenacity                      8.2.3\r\n",
      "tensorboard                   2.13.0\r\n",
      "tensorboard-data-server       0.7.0\r\n",
      "tensorflow                    2.13.0\r\n",
      "tensorflow-estimator          2.13.0\r\n",
      "tensorflow-macos              2.13.0\r\n",
      "tensorflow-metal              0.8.0\r\n",
      "termcolor                     2.3.0\r\n",
      "terminado                     0.17.1\r\n",
      "text-unidecode                1.3\r\n",
      "textdistance                  4.2.1\r\n",
      "threadpoolctl                 2.2.0\r\n",
      "three-merge                   0.1.1\r\n",
      "tifffile                      2021.7.2\r\n",
      "timezonefinder                6.2.0\r\n",
      "tinycss2                      1.2.1\r\n",
      "tldextract                    3.2.0\r\n",
      "tokenizers                    0.11.4\r\n",
      "toml                          0.10.2\r\n",
      "tomli                         2.0.1\r\n",
      "tomlkit                       0.11.1\r\n",
      "toolz                         0.12.0\r\n",
      "torch                         1.12.1\r\n",
      "tornado                       6.1\r\n",
      "tqdm                          4.64.1\r\n",
      "traitlets                     5.7.1\r\n",
      "transformers                  4.24.0\r\n",
      "trove-classifiers             2023.5.2\r\n",
      "Twisted                       22.2.0\r\n",
      "types-requests                2.31.0.20240218\r\n",
      "typing_extensions             4.9.0\r\n",
      "typing-inspect                0.9.0\r\n",
      "tzdata                        2023.3\r\n",
      "tzlocal                       4.3.1\r\n",
      "ujson                         5.4.0\r\n",
      "Unidecode                     1.2.0\r\n",
      "urllib3                       2.2.1\r\n",
      "utils                         1.0.2\r\n",
      "validators                    0.22.0\r\n",
      "virtualenv                    20.21.1\r\n",
      "w3lib                         1.21.0\r\n",
      "watchdog                      2.1.6\r\n",
      "wcwidth                       0.2.5\r\n",
      "webencodings                  0.5.1\r\n",
      "websocket-client              0.58.0\r\n",
      "Werkzeug                      2.2.2\r\n",
      "whatthepatch                  1.0.2\r\n",
      "wheel                         0.38.4\r\n",
      "wrapt                         1.14.1\r\n",
      "wurlitzer                     3.0.2\r\n",
      "xarray                        2022.11.0\r\n",
      "xattr                         0.10.1\r\n",
      "xgboost                       1.7.3\r\n",
      "xlwings                       0.29.1\r\n",
      "yapf                          0.31.0\r\n",
      "yarl                          1.9.2\r\n",
      "zict                          2.1.0\r\n",
      "zipcodes                      1.2.0\r\n",
      "zipp                          3.11.0\r\n",
      "zope.interface                5.4.0\r\n",
      "zstandard                     0.19.0\r\n"
     ]
    },
    {
     "name": "stdout",
     "output_type": "stream",
     "text": [
      "Note: you may need to restart the kernel to use updated packages.\n"
     ]
    }
   ],
   "source": [
    "pip list"
   ]
  },
  {
   "cell_type": "code",
   "execution_count": 3,
   "id": "8c29cf24",
   "metadata": {},
   "outputs": [
    {
     "ename": "ImportError",
     "evalue": "pypdf package not found, please install it with `pip install pypdf`",
     "output_type": "error",
     "traceback": [
      "\u001b[0;31m---------------------------------------------------------------------------\u001b[0m",
      "\u001b[0;31mModuleNotFoundError\u001b[0m                       Traceback (most recent call last)",
      "File \u001b[0;32m~/anaconda3/lib/python3.10/site-packages/langchain_community/document_loaders/pdf.py:152\u001b[0m, in \u001b[0;36mPyPDFLoader.__init__\u001b[0;34m(self, file_path, password, headers, extract_images)\u001b[0m\n\u001b[1;32m    151\u001b[0m \u001b[38;5;28;01mtry\u001b[39;00m:\n\u001b[0;32m--> 152\u001b[0m     \u001b[38;5;28;01mimport\u001b[39;00m \u001b[38;5;21;01mpypdf\u001b[39;00m  \u001b[38;5;66;03m# noqa:F401\u001b[39;00m\n\u001b[1;32m    153\u001b[0m \u001b[38;5;28;01mexcept\u001b[39;00m \u001b[38;5;167;01mImportError\u001b[39;00m:\n",
      "\u001b[0;31mModuleNotFoundError\u001b[0m: No module named 'pypdf'",
      "\nDuring handling of the above exception, another exception occurred:\n",
      "\u001b[0;31mImportError\u001b[0m                               Traceback (most recent call last)",
      "Cell \u001b[0;32mIn[3], line 1\u001b[0m\n\u001b[0;32m----> 1\u001b[0m loader \u001b[38;5;241m=\u001b[39m \u001b[43mPyPDFLoader\u001b[49m\u001b[43m(\u001b[49m\u001b[38;5;124;43m\"\u001b[39;49m\u001b[38;5;124;43mdocs/cs229_lectures/MachineLearning-Lecture01.pdf\u001b[39;49m\u001b[38;5;124;43m\"\u001b[39;49m\u001b[43m)\u001b[49m\n\u001b[1;32m      2\u001b[0m pages \u001b[38;5;241m=\u001b[39m loader\u001b[38;5;241m.\u001b[39mload()\n",
      "File \u001b[0;32m~/anaconda3/lib/python3.10/site-packages/langchain_community/document_loaders/pdf.py:154\u001b[0m, in \u001b[0;36mPyPDFLoader.__init__\u001b[0;34m(self, file_path, password, headers, extract_images)\u001b[0m\n\u001b[1;32m    152\u001b[0m     \u001b[38;5;28;01mimport\u001b[39;00m \u001b[38;5;21;01mpypdf\u001b[39;00m  \u001b[38;5;66;03m# noqa:F401\u001b[39;00m\n\u001b[1;32m    153\u001b[0m \u001b[38;5;28;01mexcept\u001b[39;00m \u001b[38;5;167;01mImportError\u001b[39;00m:\n\u001b[0;32m--> 154\u001b[0m     \u001b[38;5;28;01mraise\u001b[39;00m \u001b[38;5;167;01mImportError\u001b[39;00m(\n\u001b[1;32m    155\u001b[0m         \u001b[38;5;124m\"\u001b[39m\u001b[38;5;124mpypdf package not found, please install it with \u001b[39m\u001b[38;5;124m\"\u001b[39m \u001b[38;5;124m\"\u001b[39m\u001b[38;5;124m`pip install pypdf`\u001b[39m\u001b[38;5;124m\"\u001b[39m\n\u001b[1;32m    156\u001b[0m     )\n\u001b[1;32m    157\u001b[0m \u001b[38;5;28msuper\u001b[39m()\u001b[38;5;241m.\u001b[39m\u001b[38;5;21m__init__\u001b[39m(file_path, headers\u001b[38;5;241m=\u001b[39mheaders)\n\u001b[1;32m    158\u001b[0m \u001b[38;5;28mself\u001b[39m\u001b[38;5;241m.\u001b[39mparser \u001b[38;5;241m=\u001b[39m PyPDFParser(password\u001b[38;5;241m=\u001b[39mpassword, extract_images\u001b[38;5;241m=\u001b[39mextract_images)\n",
      "\u001b[0;31mImportError\u001b[0m: pypdf package not found, please install it with `pip install pypdf`"
     ]
    }
   ],
   "source": [
    "\n",
    "loader = PyPDFLoader(\"docs/cs229_lectures/MachineLearning-Lecture01.pdf\")\n",
    "pages = loader.load()"
   ]
  },
  {
   "cell_type": "markdown",
   "id": "df8d3b72",
   "metadata": {},
   "source": [
    "Each page is a Document.\n",
    "\n",
    "A Document contains text (page_content) and metadata."
   ]
  },
  {
   "cell_type": "code",
   "execution_count": null,
   "id": "10979ef4",
   "metadata": {},
   "outputs": [],
   "source": [
    "len(pages)"
   ]
  },
  {
   "cell_type": "code",
   "execution_count": null,
   "id": "c498c1f1",
   "metadata": {},
   "outputs": [],
   "source": [
    "page = pages[0]"
   ]
  },
  {
   "cell_type": "code",
   "execution_count": null,
   "id": "e86cbec5",
   "metadata": {},
   "outputs": [],
   "source": [
    "print(page.page_content[0:500])"
   ]
  },
  {
   "cell_type": "code",
   "execution_count": null,
   "id": "57c0dacc",
   "metadata": {},
   "outputs": [],
   "source": [
    "page.metadata"
   ]
  },
  {
   "cell_type": "markdown",
   "id": "2817343a",
   "metadata": {},
   "source": [
    "## YouTube"
   ]
  },
  {
   "cell_type": "code",
   "execution_count": null,
   "id": "b848b13f",
   "metadata": {},
   "outputs": [],
   "source": [
    "from langchain.document_loaders.generic import GenericLoader\n",
    "from langchain.document_loaders.parsers import OpenAIWhisperParser\n",
    "from langchain.document_loaders.blob_loaders.youtube_audio import YoutubeAudioLoader"
   ]
  },
  {
   "cell_type": "code",
   "execution_count": null,
   "id": "4bac025b",
   "metadata": {},
   "outputs": [],
   "source": [
    "# ! pip install yt_dlp\n",
    "# ! pip install pydub"
   ]
  },
  {
   "cell_type": "markdown",
   "id": "41ea326e",
   "metadata": {},
   "source": [
    "**Note**: This can take several minutes to complete."
   ]
  },
  {
   "cell_type": "code",
   "execution_count": null,
   "id": "358b0603",
   "metadata": {},
   "outputs": [],
   "source": [
    "url=\"https://www.youtube.com/watch?v=jGwO_UgTS7I\"\n",
    "save_dir=\"docs/youtube/\"\n",
    "loader = GenericLoader(\n",
    "    YoutubeAudioLoader([url],save_dir),\n",
    "    OpenAIWhisperParser()\n",
    ")\n",
    "docs = loader.load()"
   ]
  },
  {
   "cell_type": "code",
   "execution_count": null,
   "id": "caa99538",
   "metadata": {},
   "outputs": [],
   "source": [
    "docs[0].page_content[0:500]"
   ]
  },
  {
   "cell_type": "markdown",
   "id": "b9d02460",
   "metadata": {},
   "source": [
    "## URLs"
   ]
  },
  {
   "cell_type": "code",
   "execution_count": null,
   "id": "09434f52",
   "metadata": {},
   "outputs": [],
   "source": [
    "from langchain.document_loaders import WebBaseLoader\n",
    "\n",
    "loader = WebBaseLoader(\"https://github.com/basecamp/handbook/blob/master/37signals-is-you.md\")"
   ]
  },
  {
   "cell_type": "code",
   "execution_count": null,
   "id": "668d6e1a",
   "metadata": {},
   "outputs": [],
   "source": [
    "docs = loader.load()"
   ]
  },
  {
   "cell_type": "code",
   "execution_count": null,
   "id": "b7708cdb",
   "metadata": {},
   "outputs": [],
   "source": [
    "print(docs[0].page_content[:500])"
   ]
  },
  {
   "cell_type": "markdown",
   "id": "d90673a7",
   "metadata": {},
   "source": [
    "## Notion"
   ]
  },
  {
   "cell_type": "markdown",
   "id": "f70a079e",
   "metadata": {},
   "source": [
    "Follow steps [here](https://python.langchain.com/docs/modules/data_connection/document_loaders/integrations/notion) for an example Notion site such as [this one](https://yolospace.notion.site/Blendle-s-Employee-Handbook-e31bff7da17346ee99f531087d8b133f):\n",
    "\n",
    "- Duplicate the page into your own Notion space and export as Markdown / CSV.\n",
    "- Unzip it and save it as a folder that contains the markdown file for the Notion page."
   ]
  },
  {
   "cell_type": "code",
   "execution_count": null,
   "id": "bcd29f62",
   "metadata": {},
   "outputs": [],
   "source": [
    "from langchain.document_loaders import NotionDirectoryLoader\n",
    "loader = NotionDirectoryLoader(\"docs/Notion_DB\")\n",
    "docs = loader.load()"
   ]
  },
  {
   "cell_type": "code",
   "execution_count": null,
   "id": "415bc771",
   "metadata": {},
   "outputs": [],
   "source": [
    "print(docs[0].page_content[0:200])"
   ]
  },
  {
   "cell_type": "code",
   "execution_count": null,
   "id": "899134d2",
   "metadata": {},
   "outputs": [],
   "source": [
    "docs[0].metadata"
   ]
  }
 ],
 "metadata": {
  "kernelspec": {
   "display_name": "Python 3 (ipykernel)",
   "language": "python",
   "name": "python3"
  },
  "language_info": {
   "codemirror_mode": {
    "name": "ipython",
    "version": 3
   },
   "file_extension": ".py",
   "mimetype": "text/x-python",
   "name": "python",
   "nbconvert_exporter": "python",
   "pygments_lexer": "ipython3",
   "version": "3.10.9"
  }
 },
 "nbformat": 4,
 "nbformat_minor": 5
}
